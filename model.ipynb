{
 "cells": [
  {
   "cell_type": "markdown",
   "metadata": {},
   "source": [
    "# Thapar Summer School - Employee Salary Prediction"
   ]
  },
  {
   "cell_type": "markdown",
   "metadata": {},
   "source": [
    "In this lab, we are predict the salaries of employee from different fake companies."
   ]
  },
  {
   "cell_type": "markdown",
   "metadata": {},
   "source": [
    "Here, the features are explain below:\n",
    "\n",
    "- `id`: Identity of the employee\n",
    "- `salary`: (Target Column) Salary of the employee\n",
    "- `company`: Current Company of the employee\n",
    "- `department`: Department of the employee\n",
    "- `age`: Current age of the employee\n",
    "- `age_when_joined`: Employee's age when joined the company\n",
    "- `year_in_the_company`: Employee's experience in the company\n",
    "- `prior_years_experiences`: Employee's experience prior to joining the company\n",
    "- `annual_bonus`: Annual bonus of employee"
   ]
  },
  {
   "cell_type": "markdown",
   "metadata": {},
   "source": [
    "## Tools\n",
    "\n",
    "Now, before we get, let's initialize some important's libraries."
   ]
  },
  {
   "cell_type": "code",
   "execution_count": 2,
   "metadata": {},
   "outputs": [],
   "source": [
    "import numpy as np\n",
    "import pandas as pd\n",
    "import matplotlib.pyplot as plt"
   ]
  },
  {
   "cell_type": "markdown",
   "metadata": {},
   "source": [
    "## Viewing the data\n",
    "\n",
    "Taking a look in our training dataset and getting more familiar with it. Remember that the training dataset and test dataset are already separated."
   ]
  },
  {
   "cell_type": "code",
   "execution_count": 3,
   "metadata": {},
   "outputs": [],
   "source": [
    "df_train = pd.read_csv('train.csv')"
   ]
  },
  {
   "cell_type": "markdown",
   "metadata": {},
   "source": [
    "Looking at the first five examples of the dataset."
   ]
  },
  {
   "cell_type": "code",
   "execution_count": 4,
   "metadata": {
    "scrolled": true
   },
   "outputs": [
    {
     "data": {
      "text/html": [
       "<div>\n",
       "<style scoped>\n",
       "    .dataframe tbody tr th:only-of-type {\n",
       "        vertical-align: middle;\n",
       "    }\n",
       "\n",
       "    .dataframe tbody tr th {\n",
       "        vertical-align: top;\n",
       "    }\n",
       "\n",
       "    .dataframe thead th {\n",
       "        text-align: right;\n",
       "    }\n",
       "</style>\n",
       "<table border=\"1\" class=\"dataframe\">\n",
       "  <thead>\n",
       "    <tr style=\"text-align: right;\">\n",
       "      <th></th>\n",
       "      <th>id</th>\n",
       "      <th>company</th>\n",
       "      <th>department</th>\n",
       "      <th>age</th>\n",
       "      <th>age_when_joined</th>\n",
       "      <th>years_in_the_company</th>\n",
       "      <th>salary</th>\n",
       "      <th>annual_bonus</th>\n",
       "      <th>prior_years_experience</th>\n",
       "      <th>full_time</th>\n",
       "      <th>part_time</th>\n",
       "      <th>contractor</th>\n",
       "    </tr>\n",
       "  </thead>\n",
       "  <tbody>\n",
       "    <tr>\n",
       "      <th>0</th>\n",
       "      <td>1</td>\n",
       "      <td>Cheerper</td>\n",
       "      <td>Support</td>\n",
       "      <td>40</td>\n",
       "      <td>36</td>\n",
       "      <td>4</td>\n",
       "      <td>69420.46872</td>\n",
       "      <td>22586.99591</td>\n",
       "      <td>2</td>\n",
       "      <td>0.000000</td>\n",
       "      <td>0.893809</td>\n",
       "      <td>0.328591</td>\n",
       "    </tr>\n",
       "    <tr>\n",
       "      <th>1</th>\n",
       "      <td>2</td>\n",
       "      <td>Cheerper</td>\n",
       "      <td>BigData</td>\n",
       "      <td>40</td>\n",
       "      <td>34</td>\n",
       "      <td>6</td>\n",
       "      <td>88407.04974</td>\n",
       "      <td>18676.07837</td>\n",
       "      <td>3</td>\n",
       "      <td>0.205947</td>\n",
       "      <td>0.756632</td>\n",
       "      <td>0.036870</td>\n",
       "    </tr>\n",
       "    <tr>\n",
       "      <th>2</th>\n",
       "      <td>3</td>\n",
       "      <td>Pear</td>\n",
       "      <td>Sales</td>\n",
       "      <td>41</td>\n",
       "      <td>39</td>\n",
       "      <td>2</td>\n",
       "      <td>97831.84885</td>\n",
       "      <td>19287.87365</td>\n",
       "      <td>2</td>\n",
       "      <td>0.942309</td>\n",
       "      <td>0.000000</td>\n",
       "      <td>0.514457</td>\n",
       "    </tr>\n",
       "    <tr>\n",
       "      <th>3</th>\n",
       "      <td>4</td>\n",
       "      <td>Glasses</td>\n",
       "      <td>Search Engine</td>\n",
       "      <td>39</td>\n",
       "      <td>33</td>\n",
       "      <td>6</td>\n",
       "      <td>93905.86813</td>\n",
       "      <td>17936.39297</td>\n",
       "      <td>3</td>\n",
       "      <td>0.484373</td>\n",
       "      <td>0.236922</td>\n",
       "      <td>0.278535</td>\n",
       "    </tr>\n",
       "    <tr>\n",
       "      <th>4</th>\n",
       "      <td>5</td>\n",
       "      <td>Glasses</td>\n",
       "      <td>AI</td>\n",
       "      <td>39</td>\n",
       "      <td>35</td>\n",
       "      <td>3</td>\n",
       "      <td>105983.97520</td>\n",
       "      <td>16854.92943</td>\n",
       "      <td>3</td>\n",
       "      <td>0.835346</td>\n",
       "      <td>0.308958</td>\n",
       "      <td>0.000000</td>\n",
       "    </tr>\n",
       "  </tbody>\n",
       "</table>\n",
       "</div>"
      ],
      "text/plain": [
       "   id   company     department  age  age_when_joined  years_in_the_company  \\\n",
       "0   1  Cheerper        Support   40               36                     4   \n",
       "1   2  Cheerper        BigData   40               34                     6   \n",
       "2   3      Pear          Sales   41               39                     2   \n",
       "3   4   Glasses  Search Engine   39               33                     6   \n",
       "4   5   Glasses             AI   39               35                     3   \n",
       "\n",
       "         salary  annual_bonus  prior_years_experience  full_time  part_time  \\\n",
       "0   69420.46872   22586.99591                       2   0.000000   0.893809   \n",
       "1   88407.04974   18676.07837                       3   0.205947   0.756632   \n",
       "2   97831.84885   19287.87365                       2   0.942309   0.000000   \n",
       "3   93905.86813   17936.39297                       3   0.484373   0.236922   \n",
       "4  105983.97520   16854.92943                       3   0.835346   0.308958   \n",
       "\n",
       "   contractor  \n",
       "0    0.328591  \n",
       "1    0.036870  \n",
       "2    0.514457  \n",
       "3    0.278535  \n",
       "4    0.000000  "
      ]
     },
     "execution_count": 4,
     "metadata": {},
     "output_type": "execute_result"
    }
   ],
   "source": [
    "df_train.head()"
   ]
  },
  {
   "cell_type": "markdown",
   "metadata": {},
   "source": [
    "Seeing the shape of our dataset."
   ]
  },
  {
   "cell_type": "code",
   "execution_count": 5,
   "metadata": {},
   "outputs": [
    {
     "name": "stdout",
     "output_type": "stream",
     "text": [
      "The number of rows is: 100000\n",
      "The number of columns is: 12\n"
     ]
    }
   ],
   "source": [
    "n_rows = df_train.shape[0]\n",
    "n_columns = df_train.shape[1]\n",
    "\n",
    "print(f\"The number of rows is: {n_rows}\")\n",
    "print(f\"The number of columns is: {n_columns}\")"
   ]
  },
  {
   "cell_type": "code",
   "execution_count": 6,
   "metadata": {},
   "outputs": [
    {
     "data": {
      "text/plain": [
       "id                          int64\n",
       "company                    object\n",
       "department                 object\n",
       "age                         int64\n",
       "age_when_joined             int64\n",
       "years_in_the_company        int64\n",
       "salary                    float64\n",
       "annual_bonus              float64\n",
       "prior_years_experience      int64\n",
       "full_time                 float64\n",
       "part_time                 float64\n",
       "contractor                float64\n",
       "dtype: object"
      ]
     },
     "execution_count": 6,
     "metadata": {},
     "output_type": "execute_result"
    }
   ],
   "source": [
    "df_train.dtypes"
   ]
  },
  {
   "cell_type": "markdown",
   "metadata": {},
   "source": [
    "Checking if the dataframe has some null value."
   ]
  },
  {
   "cell_type": "code",
   "execution_count": 7,
   "metadata": {},
   "outputs": [
    {
     "data": {
      "text/plain": [
       "id                        0\n",
       "company                   0\n",
       "department                0\n",
       "age                       0\n",
       "age_when_joined           0\n",
       "years_in_the_company      0\n",
       "salary                    0\n",
       "annual_bonus              0\n",
       "prior_years_experience    0\n",
       "full_time                 0\n",
       "part_time                 0\n",
       "contractor                0\n",
       "dtype: int64"
      ]
     },
     "execution_count": 7,
     "metadata": {},
     "output_type": "execute_result"
    }
   ],
   "source": [
    "df_train.isnull().sum()"
   ]
  },
  {
   "cell_type": "markdown",
   "metadata": {},
   "source": [
    "That's good. Now, we notice that just two features are categorical (`company` and `department`), while the others are numerical (without considerer `id`). Let's see the different values that each of the two feature contains.\n",
    "\n",
    "#### Values in _company_ and _department_"
   ]
  },
  {
   "cell_type": "code",
   "execution_count": 13,
   "metadata": {},
   "outputs": [
    {
     "data": {
      "text/plain": [
       "Glasses     47734\n",
       "Cheerper    28583\n",
       "Pear        23683\n",
       "Name: company, dtype: int64"
      ]
     },
     "execution_count": 13,
     "metadata": {},
     "output_type": "execute_result"
    }
   ],
   "source": [
    "df_train['company'].value_counts()"
   ]
  },
  {
   "cell_type": "code",
   "execution_count": 14,
   "metadata": {},
   "outputs": [
    {
     "data": {
      "text/plain": [
       "Search Engine    21915\n",
       "AI               21642\n",
       "BigData          15777\n",
       "Design           15713\n",
       "Sales            12535\n",
       "Support          12418\n",
       "Name: department, dtype: int64"
      ]
     },
     "execution_count": 14,
     "metadata": {},
     "output_type": "execute_result"
    }
   ],
   "source": [
    "df_train['department'].value_counts()"
   ]
  },
  {
   "cell_type": "code",
   "execution_count": 17,
   "metadata": {},
   "outputs": [
    {
     "data": {
      "text/html": [
       "<div>\n",
       "<style scoped>\n",
       "    .dataframe tbody tr th:only-of-type {\n",
       "        vertical-align: middle;\n",
       "    }\n",
       "\n",
       "    .dataframe tbody tr th {\n",
       "        vertical-align: top;\n",
       "    }\n",
       "\n",
       "    .dataframe thead th {\n",
       "        text-align: right;\n",
       "    }\n",
       "</style>\n",
       "<table border=\"1\" class=\"dataframe\">\n",
       "  <thead>\n",
       "    <tr style=\"text-align: right;\">\n",
       "      <th></th>\n",
       "      <th>company</th>\n",
       "      <th>department</th>\n",
       "    </tr>\n",
       "  </thead>\n",
       "  <tbody>\n",
       "    <tr>\n",
       "      <th>count</th>\n",
       "      <td>100000</td>\n",
       "      <td>100000</td>\n",
       "    </tr>\n",
       "    <tr>\n",
       "      <th>unique</th>\n",
       "      <td>3</td>\n",
       "      <td>6</td>\n",
       "    </tr>\n",
       "    <tr>\n",
       "      <th>top</th>\n",
       "      <td>Glasses</td>\n",
       "      <td>Search Engine</td>\n",
       "    </tr>\n",
       "    <tr>\n",
       "      <th>freq</th>\n",
       "      <td>47734</td>\n",
       "      <td>21915</td>\n",
       "    </tr>\n",
       "  </tbody>\n",
       "</table>\n",
       "</div>"
      ],
      "text/plain": [
       "        company     department\n",
       "count    100000         100000\n",
       "unique        3              6\n",
       "top     Glasses  Search Engine\n",
       "freq      47734          21915"
      ]
     },
     "execution_count": 17,
     "metadata": {},
     "output_type": "execute_result"
    }
   ],
   "source": [
    "df_train.describe(include=object)"
   ]
  },
  {
   "cell_type": "markdown",
   "metadata": {},
   "source": [
    "#### Summary measures of each numerical feature"
   ]
  },
  {
   "cell_type": "code",
   "execution_count": 18,
   "metadata": {},
   "outputs": [
    {
     "data": {
      "text/html": [
       "<div>\n",
       "<style scoped>\n",
       "    .dataframe tbody tr th:only-of-type {\n",
       "        vertical-align: middle;\n",
       "    }\n",
       "\n",
       "    .dataframe tbody tr th {\n",
       "        vertical-align: top;\n",
       "    }\n",
       "\n",
       "    .dataframe thead th {\n",
       "        text-align: right;\n",
       "    }\n",
       "</style>\n",
       "<table border=\"1\" class=\"dataframe\">\n",
       "  <thead>\n",
       "    <tr style=\"text-align: right;\">\n",
       "      <th></th>\n",
       "      <th>id</th>\n",
       "      <th>age</th>\n",
       "      <th>age_when_joined</th>\n",
       "      <th>years_in_the_company</th>\n",
       "      <th>salary</th>\n",
       "      <th>annual_bonus</th>\n",
       "      <th>prior_years_experience</th>\n",
       "      <th>full_time</th>\n",
       "      <th>part_time</th>\n",
       "      <th>contractor</th>\n",
       "    </tr>\n",
       "  </thead>\n",
       "  <tbody>\n",
       "    <tr>\n",
       "      <th>count</th>\n",
       "      <td>100000.000000</td>\n",
       "      <td>100000.000000</td>\n",
       "      <td>100000.000000</td>\n",
       "      <td>100000.000000</td>\n",
       "      <td>100000.000000</td>\n",
       "      <td>100000.000000</td>\n",
       "      <td>100000.000000</td>\n",
       "      <td>100000.000000</td>\n",
       "      <td>100000.000000</td>\n",
       "      <td>100000.000000</td>\n",
       "    </tr>\n",
       "    <tr>\n",
       "      <th>mean</th>\n",
       "      <td>50000.500000</td>\n",
       "      <td>38.195870</td>\n",
       "      <td>33.537060</td>\n",
       "      <td>4.667780</td>\n",
       "      <td>87389.018245</td>\n",
       "      <td>18582.064815</td>\n",
       "      <td>2.505540</td>\n",
       "      <td>0.383531</td>\n",
       "      <td>0.383279</td>\n",
       "      <td>0.382016</td>\n",
       "    </tr>\n",
       "    <tr>\n",
       "      <th>std</th>\n",
       "      <td>28867.657797</td>\n",
       "      <td>6.013073</td>\n",
       "      <td>7.719078</td>\n",
       "      <td>2.531773</td>\n",
       "      <td>28478.542805</td>\n",
       "      <td>4373.431365</td>\n",
       "      <td>1.207222</td>\n",
       "      <td>0.340638</td>\n",
       "      <td>0.339783</td>\n",
       "      <td>0.339621</td>\n",
       "    </tr>\n",
       "    <tr>\n",
       "      <th>min</th>\n",
       "      <td>1.000000</td>\n",
       "      <td>30.000000</td>\n",
       "      <td>22.000000</td>\n",
       "      <td>1.000000</td>\n",
       "      <td>40000.000000</td>\n",
       "      <td>9000.000000</td>\n",
       "      <td>1.000000</td>\n",
       "      <td>0.000000</td>\n",
       "      <td>0.000000</td>\n",
       "      <td>0.000000</td>\n",
       "    </tr>\n",
       "    <tr>\n",
       "      <th>25%</th>\n",
       "      <td>25000.750000</td>\n",
       "      <td>33.000000</td>\n",
       "      <td>27.000000</td>\n",
       "      <td>3.000000</td>\n",
       "      <td>66027.961360</td>\n",
       "      <td>15448.885482</td>\n",
       "      <td>1.000000</td>\n",
       "      <td>0.016171</td>\n",
       "      <td>0.015702</td>\n",
       "      <td>0.013575</td>\n",
       "    </tr>\n",
       "    <tr>\n",
       "      <th>50%</th>\n",
       "      <td>50000.500000</td>\n",
       "      <td>38.000000</td>\n",
       "      <td>33.000000</td>\n",
       "      <td>5.000000</td>\n",
       "      <td>86554.204990</td>\n",
       "      <td>18821.651785</td>\n",
       "      <td>2.000000</td>\n",
       "      <td>0.333278</td>\n",
       "      <td>0.334739</td>\n",
       "      <td>0.331437</td>\n",
       "    </tr>\n",
       "    <tr>\n",
       "      <th>75%</th>\n",
       "      <td>75000.250000</td>\n",
       "      <td>43.000000</td>\n",
       "      <td>39.000000</td>\n",
       "      <td>7.000000</td>\n",
       "      <td>107269.920325</td>\n",
       "      <td>22168.522630</td>\n",
       "      <td>3.000000</td>\n",
       "      <td>0.653879</td>\n",
       "      <td>0.650733</td>\n",
       "      <td>0.649338</td>\n",
       "    </tr>\n",
       "    <tr>\n",
       "      <th>max</th>\n",
       "      <td>100000.000000</td>\n",
       "      <td>49.000000</td>\n",
       "      <td>48.000000</td>\n",
       "      <td>9.000000</td>\n",
       "      <td>153000.000000</td>\n",
       "      <td>24792.910000</td>\n",
       "      <td>5.000000</td>\n",
       "      <td>1.000000</td>\n",
       "      <td>1.000000</td>\n",
       "      <td>1.000000</td>\n",
       "    </tr>\n",
       "  </tbody>\n",
       "</table>\n",
       "</div>"
      ],
      "text/plain": [
       "                  id            age  age_when_joined  years_in_the_company  \\\n",
       "count  100000.000000  100000.000000    100000.000000         100000.000000   \n",
       "mean    50000.500000      38.195870        33.537060              4.667780   \n",
       "std     28867.657797       6.013073         7.719078              2.531773   \n",
       "min         1.000000      30.000000        22.000000              1.000000   \n",
       "25%     25000.750000      33.000000        27.000000              3.000000   \n",
       "50%     50000.500000      38.000000        33.000000              5.000000   \n",
       "75%     75000.250000      43.000000        39.000000              7.000000   \n",
       "max    100000.000000      49.000000        48.000000              9.000000   \n",
       "\n",
       "              salary   annual_bonus  prior_years_experience      full_time  \\\n",
       "count  100000.000000  100000.000000           100000.000000  100000.000000   \n",
       "mean    87389.018245   18582.064815                2.505540       0.383531   \n",
       "std     28478.542805    4373.431365                1.207222       0.340638   \n",
       "min     40000.000000    9000.000000                1.000000       0.000000   \n",
       "25%     66027.961360   15448.885482                1.000000       0.016171   \n",
       "50%     86554.204990   18821.651785                2.000000       0.333278   \n",
       "75%    107269.920325   22168.522630                3.000000       0.653879   \n",
       "max    153000.000000   24792.910000                5.000000       1.000000   \n",
       "\n",
       "           part_time     contractor  \n",
       "count  100000.000000  100000.000000  \n",
       "mean        0.383279       0.382016  \n",
       "std         0.339783       0.339621  \n",
       "min         0.000000       0.000000  \n",
       "25%         0.015702       0.013575  \n",
       "50%         0.334739       0.331437  \n",
       "75%         0.650733       0.649338  \n",
       "max         1.000000       1.000000  "
      ]
     },
     "execution_count": 18,
     "metadata": {},
     "output_type": "execute_result"
    }
   ],
   "source": [
    "df_train.describe(include=[int, float])"
   ]
  },
  {
   "cell_type": "markdown",
   "metadata": {},
   "source": [
    "For we will start the data pre-processing, we know that categorical features like **company** and **department** have a lower cardinality, which can be managed by some **encoding** techniques. \n",
    "\n",
    "Also, we know that the others features (which are numerical) are having **high deviation** values which can lead to bias, overfitting, and can affect the accuracy of the model. So, we can use some different transformtion techniques to reduce the deviation between the data-points."
   ]
  }
 ],
 "metadata": {
  "kernelspec": {
   "display_name": "Python 3 (ipykernel)",
   "language": "python",
   "name": "python3"
  },
  "language_info": {
   "codemirror_mode": {
    "name": "ipython",
    "version": 3
   },
   "file_extension": ".py",
   "mimetype": "text/x-python",
   "name": "python",
   "nbconvert_exporter": "python",
   "pygments_lexer": "ipython3",
   "version": "3.9.12"
  }
 },
 "nbformat": 4,
 "nbformat_minor": 2
}
